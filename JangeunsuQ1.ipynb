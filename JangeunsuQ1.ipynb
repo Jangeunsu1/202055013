{
 "cells": [
  {
   "cell_type": "code",
   "execution_count": 3,
   "id": "a8ebd9a2-4b42-406c-a0a2-c07c116bdd80",
   "metadata": {
    "tags": []
   },
   "outputs": [],
   "source": [
    "lovely_loveseat_description = \"Lovely Loveseat. Tufted polyester blend on wood. 32 inches high x 40 inches wide x 30 inches deep. Red or white.\"\n",
    "lovely_loveseat_price = 254.00\n",
    "\n",
    "stylish_settee_description = \"Stylish Settee. Faux leather on birch. 29.50 inches high x 54.75 inches wide x 28 inches deep. Black.\"\n",
    "stylish_settee_price = 180.50\n",
    "\n",
    "luxurious_lamp_description =\"Luxurious Lamp. Glass and iron. 36 inches tall. Brown with cream shade.\"\n",
    "luxurious_lamp_price = 52.15\n",
    "\n",
    "sales_tax = 0.088\n",
    "\n",
    "customer_one_total = 0\n",
    "\n",
    "customer_one_itemization = \"\""
   ]
  },
  {
   "cell_type": "code",
   "execution_count": 4,
   "id": "47044b4b-8b9b-4770-bd1e-d890e1b71a12",
   "metadata": {
    "tags": []
   },
   "outputs": [
    {
     "data": {
      "text/plain": [
       "254.0"
      ]
     },
     "execution_count": 4,
     "metadata": {},
     "output_type": "execute_result"
    }
   ],
   "source": [
    "customer_one_total += lovely_loveseat_price\n",
    "customer_one_total"
   ]
  },
  {
   "cell_type": "code",
   "execution_count": 5,
   "id": "4f852485-3ec8-4e2b-a143-05e97bb7a370",
   "metadata": {
    "tags": []
   },
   "outputs": [
    {
     "data": {
      "text/plain": [
       "'Lovely Loveseat. Tufted polyester blend on wood. 32 inches high x 40 inches wide x 30 inches deep. Red or white.'"
      ]
     },
     "execution_count": 5,
     "metadata": {},
     "output_type": "execute_result"
    }
   ],
   "source": [
    "customer_one_itemization += lovely_loveseat_description\n",
    "customer_one_itemization"
   ]
  },
  {
   "cell_type": "code",
   "execution_count": 6,
   "id": "a0d77010-62a6-473b-872e-2ab280349054",
   "metadata": {
    "tags": []
   },
   "outputs": [
    {
     "data": {
      "text/plain": [
       "306.15"
      ]
     },
     "execution_count": 6,
     "metadata": {},
     "output_type": "execute_result"
    }
   ],
   "source": [
    "customer_one_total += luxurious_lamp_price\n",
    "customer_one_total"
   ]
  },
  {
   "cell_type": "code",
   "execution_count": 7,
   "id": "d945ef09-db67-4255-ac1e-5e5a922fb662",
   "metadata": {
    "tags": []
   },
   "outputs": [
    {
     "data": {
      "text/plain": [
       "'Lovely Loveseat. Tufted polyester blend on wood. 32 inches high x 40 inches wide x 30 inches deep. Red or white.Luxurious Lamp. Glass and iron. 36 inches tall. Brown with cream shade.'"
      ]
     },
     "execution_count": 7,
     "metadata": {},
     "output_type": "execute_result"
    }
   ],
   "source": [
    "customer_one_itemization += luxurious_lamp_description\n",
    "customer_one_itemization"
   ]
  },
  {
   "cell_type": "code",
   "execution_count": 9,
   "id": "14fad475-9cf3-4ca9-8e04-5c8b0ea61e86",
   "metadata": {
    "tags": []
   },
   "outputs": [
    {
     "data": {
      "text/plain": [
       "26.941199999999995"
      ]
     },
     "execution_count": 9,
     "metadata": {},
     "output_type": "execute_result"
    }
   ],
   "source": [
    "customer_one_tax = customer_one_total * sales_tax\n",
    "customer_one_tax"
   ]
  },
  {
   "cell_type": "code",
   "execution_count": 10,
   "id": "d5768355-20b9-4b48-8d96-f3aa084beddd",
   "metadata": {
    "tags": []
   },
   "outputs": [
    {
     "data": {
      "text/plain": [
       "333.09119999999996"
      ]
     },
     "execution_count": 10,
     "metadata": {},
     "output_type": "execute_result"
    }
   ],
   "source": [
    "customer_one_total += customer_one_tax\n",
    "customer_one_total"
   ]
  },
  {
   "cell_type": "code",
   "execution_count": 13,
   "id": "2d5ac374-68bf-45ab-9fb1-354b0ff954ac",
   "metadata": {
    "tags": []
   },
   "outputs": [
    {
     "name": "stdout",
     "output_type": "stream",
     "text": [
      "Customer One Items:\n",
      "Lovely Loveseat. Tufted polyester blend on wood. 32 inches high x 40 inches wide x 30 inches deep. Red or white.Luxurious Lamp. Glass and iron. 36 inches tall. Brown with cream shade.\n",
      "Customer One Total:\n",
      "333.09119999999996\n"
     ]
    }
   ],
   "source": [
    "print(\"Customer One Items:\")\n",
    "print(customer_one_itemization)\n",
    "print(\"Customer One Total:\")\n",
    "print(customer_one_total)"
   ]
  }
 ],
 "metadata": {
  "kernelspec": {
   "display_name": "Python 3 (ipykernel)",
   "language": "python",
   "name": "python3"
  },
  "language_info": {
   "codemirror_mode": {
    "name": "ipython",
    "version": 3
   },
   "file_extension": ".py",
   "mimetype": "text/x-python",
   "name": "python",
   "nbconvert_exporter": "python",
   "pygments_lexer": "ipython3",
   "version": "3.11.4"
  }
 },
 "nbformat": 4,
 "nbformat_minor": 5
}
